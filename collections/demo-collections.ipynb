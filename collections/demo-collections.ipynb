{
 "cells": [
  {
   "cell_type": "markdown",
   "id": "627ee814",
   "metadata": {},
   "source": [
    "# Lister og relaterede datatyper\n",
    "\n",
    "Denne notebook viser eksempler med **almindelige lister**, **dictionary** (ordbøger), **sæt** og **tupler**. \n",
    "\n",
    "Hvert eksempel har en kort forklaring efterfulgt af koden."
   ]
  },
  {
   "cell_type": "markdown",
   "id": "199179e6",
   "metadata": {},
   "source": [
    "## Almindelige lister\n",
    "**Eksempel L1: Oprettelse af lister og basale operationer**  \n",
    "Viser oprettelse, længde, indeksering og ændring af elementer."
   ]
  },
  {
   "cell_type": "code",
   "execution_count": null,
   "id": "b98e5ef1",
   "metadata": {},
   "outputs": [],
   "source": [
    "frugter = [\"æble\", \"banan\", \"pære\"]\n",
    "print(\"Liste:\", frugter)\n",
    "print(\"Længde:\", len(frugter))\n",
    "print(\"Første element:\", frugter[0])\n",
    "frugter[1] = \"appelsin\"\n",
    "print(\"Efter ændring:\", frugter)"
   ]
  },
  {
   "cell_type": "markdown",
   "id": "c9a7534b",
   "metadata": {},
   "source": [
    "**Eksempel L2: Slicing (udsnit)**  \n",
    "Viser hvordan man tager dele af en liste med start:stop:step."
   ]
  },
  {
   "cell_type": "code",
   "execution_count": null,
   "id": "b0b79b24",
   "metadata": {},
   "outputs": [],
   "source": [
    "tal = [0,1,2,3,4,5,6,7,8,9]\n",
    "print(tal[2:7])      # elementer med indeks 2..6\n",
    "print(tal[:5])       # fra start til 4\n",
    "print(tal[::2])      # hvert andet tal\n",
    "print(tal[::-1])     # reverseret"
   ]
  },
  {
   "cell_type": "markdown",
   "id": "d6221636",
   "metadata": {},
   "source": [
    "**Eksempel L3: Tilføjelse af elementer**  \n",
    "Viser `append`, `extend` og `insert`."
   ]
  },
  {
   "cell_type": "code",
   "execution_count": null,
   "id": "46846905",
   "metadata": {},
   "outputs": [],
   "source": [
    "navne = [\"Ali\", \"Bo\"]\n",
    "navne.append(\"Chen\")            # ét element bagest\n",
    "navne.extend([\"Dina\", \"Egon\"])  # flere elementer\n",
    "navne.insert(1, \"Bea\")          # indsæt ved indeks\n",
    "print(navne)"
   ]
  },
  {
   "cell_type": "markdown",
   "id": "a516428d",
   "metadata": {},
   "source": [
    "**Eksempel L4: Fjernelse af elementer**  \n",
    "Viser `remove`, `pop` og sletning med `del` og slicing."
   ]
  },
  {
   "cell_type": "code",
   "execution_count": null,
   "id": "cb18db3f",
   "metadata": {},
   "outputs": [],
   "source": [
    "dyr = [\"kat\",\"hund\",\"fugl\",\"hund\",\"fisk\"]\n",
    "dyr.remove(\"hund\")   # fjerner første forekomst\n",
    "sidste = dyr.pop()   # fjerner og returnerer sidste\n",
    "del dyr[0:1]         # sletter et udsnit\n",
    "print(dyr, \"| popped:\", sidste)"
   ]
  },
  {
   "cell_type": "markdown",
   "id": "f3ac110b",
   "metadata": {},
   "source": [
    "**Eksempel L5: Oprettelse med `list()`**  \n",
    "Konverterer andre sekvenser/iterables til liste."
   ]
  },
  {
   "cell_type": "code",
   "execution_count": null,
   "id": "b61e9cf3",
   "metadata": {},
   "outputs": [],
   "source": [
    "tekst = \"hej\"\n",
    "liste_af_bogstaver = list(tekst)\n",
    "mængde = {1,2,2,3}\n",
    "liste_af_unikke = list(mængde)\n",
    "print(liste_af_bogstaver, liste_af_unikke)"
   ]
  },
  {
   "cell_type": "markdown",
   "id": "ddb0646d",
   "metadata": {},
   "source": [
    "**Eksempel L6: List comprehension**  \n",
    "Kompakt generering af lister med betingelse."
   ]
  },
  {
   "cell_type": "code",
   "execution_count": 1,
   "id": "4a8b8767",
   "metadata": {},
   "outputs": [
    {
     "name": "stdout",
     "output_type": "stream",
     "text": [
      "[0, 4, 16, 36, 64]\n"
     ]
    }
   ],
   "source": [
    "kvadrater = [n*n for n in range(10) if n % 2 == 0]\n",
    "print(kvadrater)"
   ]
  },
  {
   "cell_type": "markdown",
   "id": "8d3a51ac",
   "metadata": {},
   "source": [
    "**Eksempel L7: Sortering**  \n",
    "Viser forskel på `list.sort()` (in-place) og `sorted()` (nyt objekt)."
   ]
  },
  {
   "cell_type": "code",
   "execution_count": 2,
   "id": "66006854",
   "metadata": {},
   "outputs": [
    {
     "name": "stdout",
     "output_type": "stream",
     "text": [
      "sorted(): ['Aalborg', 'København', 'Odense', 'Århus']\n",
      "sort():   ['København', 'Aalborg', 'Odense', 'Århus']\n"
     ]
    }
   ],
   "source": [
    "byer = [\"Århus\",\"Odense\",\"København\",\"Aalborg\"]\n",
    "kopi = sorted(byer)             # ny sorteret kopi\n",
    "byer.sort(key=len, reverse=True) # sorter efter længde, faldende\n",
    "print(\"sorted():\", kopi)\n",
    "print(\"sort():  \", byer)"
   ]
  },
  {
   "cell_type": "markdown",
   "id": "4300ef62",
   "metadata": {},
   "source": [
    "**Eksempel L8: Kopi vs. reference**  \n",
    "Overfladisk kopi med slicing eller `list()` og forskel til fælles reference."
   ]
  },
  {
   "cell_type": "code",
   "execution_count": null,
   "id": "479c42be",
   "metadata": {},
   "outputs": [],
   "source": [
    "a = [[1,2],[3,4]]\n",
    "b = a                   # samme reference\n",
    "c = list(a)             # overfladisk kopi\n",
    "a[0][0] = 99            # ændrer indre liste\n",
    "print(\"a:\", a)\n",
    "print(\"b (samme ref):\", b)\n",
    "print(\"c (shallow):  \", c)"
   ]
  },
  {
   "cell_type": "markdown",
   "id": "ed2eaff6",
   "metadata": {},
   "source": [
    "**Eksempel L9: Iteration med `enumerate` og `zip`**  \n",
    "Tæller indeks og parrer lister."
   ]
  },
  {
   "cell_type": "code",
   "execution_count": null,
   "id": "26471444",
   "metadata": {},
   "outputs": [],
   "source": [
    "navne = [\"Ida\",\"Jon\",\"Kai\"]\n",
    "point = [12,10,15]\n",
    "for i, navn in enumerate(navne, start=1):\n",
    "    print(i, navn)\n",
    "for n, p in zip(navne, point):\n",
    "    print(f\"{n}: {p}\")"
   ]
  },
  {
   "cell_type": "markdown",
   "id": "25057e3d",
   "metadata": {},
   "source": [
    "**Eksempel L10: Slicing-tilskrivning**  \n",
    "Erstat, indsæt eller fjern flere elementer på én gang via slicing."
   ]
  },
  {
   "cell_type": "code",
   "execution_count": null,
   "id": "66a6f3fe",
   "metadata": {},
   "outputs": [],
   "source": [
    "tal = [1,2,3,4,5]\n",
    "tal[1:3] = [20,30,40]   # erstat 2,3 med tre elementer\n",
    "tal[3:3] = [99,100]     # indsæt uden at erstatte\n",
    "tal[0:2] = []           # fjern første to\n",
    "print(tal)"
   ]
  },
  {
   "cell_type": "markdown",
   "id": "1bda67b6",
   "metadata": {},
   "source": [
    "## Dictionaries (ordbøger)"
   ]
  },
  {
   "cell_type": "markdown",
   "id": "65547e89",
   "metadata": {},
   "source": [
    "**Eksempel D1: Oprettelse og opslag**  \n",
    "Viser at nøgler slår op værdier; samt tilføjelse og ændring."
   ]
  },
  {
   "cell_type": "code",
   "execution_count": 9,
   "id": "553f2404",
   "metadata": {},
   "outputs": [
    {
     "name": "stdout",
     "output_type": "stream",
     "text": [
      "Sara\n",
      "{'navn': 'Sara', 'klasse': '2y', 'point': 98, 'email': 'sara@example.com'}\n"
     ]
    }
   ],
   "source": [
    "elev = {\"navn\":\"Sara\",\"klasse\":\"2y\",\"point\":95}\n",
    "print(elev[\"navn\"])\n",
    "elev[\"point\"] = 98      # ændring\n",
    "elev[\"email\"] = \"sara@example.com\"  # ny nøgle\n",
    "print(elev)"
   ]
  },
  {
   "cell_type": "markdown",
   "id": "2924899d",
   "metadata": {},
   "source": [
    "**Eksempel D2: `get()` med standardværdi**  \n",
    "Undgår KeyError og giver fallback."
   ]
  },
  {
   "cell_type": "code",
   "execution_count": null,
   "id": "cd265134",
   "metadata": {},
   "outputs": [],
   "source": [
    "print(elev.get(\"telefon\", \"ukendt\"))  # findes ikke"
   ]
  },
  {
   "cell_type": "markdown",
   "id": "693786a9",
   "metadata": {},
   "source": [
    "**Eksempel D3: `items()`, `keys()` og `values()`**  \n",
    "Iteration over nøgle-værdi par, nøgler eller værdier."
   ]
  },
  {
   "cell_type": "code",
   "execution_count": 8,
   "id": "57ce26ae",
   "metadata": {},
   "outputs": [
    {
     "ename": "NameError",
     "evalue": "name 'elev' is not defined",
     "output_type": "error",
     "traceback": [
      "\u001b[0;31m---------------------------------------------------------------------------\u001b[0m",
      "\u001b[0;31mNameError\u001b[0m                                 Traceback (most recent call last)",
      "Cell \u001b[0;32mIn[8], line 1\u001b[0m\n\u001b[0;32m----> 1\u001b[0m \u001b[38;5;28;01mfor\u001b[39;00m k, v \u001b[38;5;129;01min\u001b[39;00m \u001b[43melev\u001b[49m\u001b[38;5;241m.\u001b[39mitems():\n\u001b[1;32m      2\u001b[0m     \u001b[38;5;28mprint\u001b[39m(k, \u001b[38;5;124m\"\u001b[39m\u001b[38;5;124m=>\u001b[39m\u001b[38;5;124m\"\u001b[39m, v)\n\u001b[1;32m      3\u001b[0m \u001b[38;5;28mprint\u001b[39m(\u001b[38;5;28mlist\u001b[39m(elev\u001b[38;5;241m.\u001b[39mkeys()))\n",
      "\u001b[0;31mNameError\u001b[0m: name 'elev' is not defined"
     ]
    }
   ],
   "source": [
    "for k, v in elev.items():\n",
    "    print(k, \"=>\", v)\n",
    "print(list(elev.keys()))\n",
    "print(list(elev.values()))"
   ]
  },
  {
   "cell_type": "markdown",
   "id": "8253f8e0",
   "metadata": {},
   "source": [
    "**Eksempel D4: Opdatering og fletning**  \n",
    "Bruger `update()` og operatoren `|` til at flette ordbøger."
   ]
  },
  {
   "cell_type": "code",
   "execution_count": null,
   "id": "676a540b",
   "metadata": {},
   "outputs": [],
   "source": [
    "a = {\"x\":1, \"y\":2}\n",
    "b = {\"y\":20, \"z\":3}\n",
    "a.update({\"w\":0})\n",
    "c = a | b  # ny dict; kræver Python 3.9+\n",
    "print(\"a:\", a)\n",
    "print(\"c (flet):\", c)"
   ]
  },
  {
   "cell_type": "markdown",
   "id": "510cb2cd",
   "metadata": {},
   "source": [
    "**Eksempel D5: Dictionary comprehension**  \n",
    "Bygger en ordbog ud fra en sekvens."
   ]
  },
  {
   "cell_type": "code",
   "execution_count": 7,
   "id": "0b8c8a18",
   "metadata": {},
   "outputs": [
    {
     "name": "stdout",
     "output_type": "stream",
     "text": [
      "{0: 0, 1: 1, 2: 4, 3: 9, 4: 16, 5: 25}\n"
     ]
    }
   ],
   "source": [
    "kvadrater = {n: n*n for n in range(6)}\n",
    "print(kvadrater)"
   ]
  },
  {
   "cell_type": "markdown",
   "id": "86311a7c",
   "metadata": {},
   "source": [
    "**Eksempel D6: Indlejrede ordbøger**  \n",
    "Model for strukturerede data i flere niveauer."
   ]
  },
  {
   "cell_type": "code",
   "execution_count": 6,
   "id": "0c5eb4c5",
   "metadata": {},
   "outputs": [
    {
     "name": "stdout",
     "output_type": "stream",
     "text": [
      "l@skole.dk\n"
     ]
    }
   ],
   "source": [
    "klasseliste = {\n",
    "    \"2y\": {\"elever\": 24, \"kontakt\": {\"navn\": \"Lars\", \"email\": \"l@skole.dk\"}},\n",
    "    \"3x\": {\"elever\": 22, \"kontakt\": {\"navn\": \"Mette\", \"email\": \"m@skole.dk\"}},\n",
    "}\n",
    "print(klasseliste[\"2y\"][\"kontakt\"][\"email\"])"
   ]
  },
  {
   "cell_type": "markdown",
   "id": "6b3797b8",
   "metadata": {},
   "source": [
    "**Eksempel D7: Sletning**  \n",
    "Fjern nøgler med `del` eller `pop()` der også returnerer værdien."
   ]
  },
  {
   "cell_type": "code",
   "execution_count": null,
   "id": "9571ecc0",
   "metadata": {},
   "outputs": [],
   "source": [
    "telefonbog = {\"Ali\":123, \"Bo\":456, \"Chen\":789}\n",
    "nummer = telefonbog.pop(\"Bo\")\n",
    "del telefonbog[\"Ali\"]\n",
    "print(\"fjernet:\", nummer, \"| tilbage:\", telefonbog)"
   ]
  },
  {
   "cell_type": "markdown",
   "id": "9f79fe5d",
   "metadata": {},
   "source": [
    "**Eksempel D8: `setdefault()`**  \n",
    "Indsæt standardværdi hvis nøglen mangler, og returnér værdien."
   ]
  },
  {
   "cell_type": "code",
   "execution_count": null,
   "id": "63988c63",
   "metadata": {},
   "outputs": [],
   "source": [
    "d = {}\n",
    "liste = d.setdefault(\"resultater\", [])\n",
    "liste.append(10)\n",
    "print(d)"
   ]
  },
  {
   "cell_type": "markdown",
   "id": "9a578b44",
   "metadata": {},
   "source": [
    "**Eksempel D9: Iteration i sorteret nøgleorden**  \n",
    "Bruger `sorted()` til stabil rækkefølge."
   ]
  },
  {
   "cell_type": "code",
   "execution_count": null,
   "id": "0e821859",
   "metadata": {},
   "outputs": [],
   "source": [
    "data = {\"b\":2, \"a\":1, \"c\":3}\n",
    "for k in sorted(data):\n",
    "    print(k, data[k])"
   ]
  },
  {
   "cell_type": "markdown",
   "id": "cb3a248d",
   "metadata": {},
   "source": [
    "**Eksempel D10: Tupler som nøgler**  \n",
    "Viser at nøgler skal være hashbare; tuple fungerer som koordinat."
   ]
  },
  {
   "cell_type": "code",
   "execution_count": null,
   "id": "8c02b1f7",
   "metadata": {},
   "outputs": [],
   "source": [
    "punkter = {}\n",
    "koordinat = (2, 3)\n",
    "punkter[koordinat] = \"træ\"\n",
    "print(punkter)"
   ]
  },
  {
   "cell_type": "markdown",
   "id": "8d03d054",
   "metadata": {},
   "source": [
    "## Sæt (set)"
   ]
  },
  {
   "cell_type": "markdown",
   "id": "330a472a",
   "metadata": {},
   "source": [
    "**Eksempel S1: Oprettelse og unikke værdier**  \n",
    "Sæt fjerner dubletter automatisk."
   ]
  },
  {
   "cell_type": "code",
   "execution_count": null,
   "id": "bff34831",
   "metadata": {},
   "outputs": [],
   "source": [
    "tal = [1,2,2,3,3,3]\n",
    "unikke = set(tal)\n",
    "print(unikke)"
   ]
  },
  {
   "cell_type": "markdown",
   "id": "452ee09c",
   "metadata": {},
   "source": [
    "**Eksempel S2: Tilføjelse og fjernelse**  \n",
    "Bruger `add`, `discard` og `remove`."
   ]
  },
  {
   "cell_type": "code",
   "execution_count": 5,
   "id": "c94102a8",
   "metadata": {},
   "outputs": [
    {
     "name": "stdout",
     "output_type": "stream",
     "text": [
      "lilla fandtes ikke\n",
      "{'rød', 'blå', 'grøn'}\n"
     ]
    }
   ],
   "source": [
    "s = {\"rød\",\"grøn\"}\n",
    "s.add(\"blå\")\n",
    "s.discard(\"gul\")  # ingen fejl hvis mangler\n",
    "try:\n",
    "    s.remove(\"lilla\")  # KeyError hvis mangler\n",
    "except KeyError:\n",
    "    print(\"lilla fandtes ikke\")\n",
    "print(s)"
   ]
  },
  {
   "cell_type": "markdown",
   "id": "49993725",
   "metadata": {},
   "source": [
    "**Eksempel S3: Union, snit og forskel**  \n",
    "Klassiske mængdeoperationer."
   ]
  },
  {
   "cell_type": "code",
   "execution_count": null,
   "id": "be85347b",
   "metadata": {},
   "outputs": [],
   "source": [
    "A = {1,2,3}; B = {3,4,5}\n",
    "print(\"union:\", A | B)\n",
    "print(\"snit:\", A & B)\n",
    "print(\"forskel:\", A - B)\n",
    "print(\"symm. forskel:\", A ^ B)"
   ]
  },
  {
   "cell_type": "markdown",
   "id": "e72ecb3e",
   "metadata": {},
   "source": [
    "**Eksempel S4: Medlemskab og delmængder**  \n",
    "`t in s`, `<=` og `<` for (ægte) delmængde."
   ]
  },
  {
   "cell_type": "code",
   "execution_count": null,
   "id": "61129a8f",
   "metadata": {},
   "outputs": [],
   "source": [
    "s = {1,2,3,4}\n",
    "print(2 in s)\n",
    "print({1,2} <= s)  # delmængde\n",
    "print({1,2} < s)   # ægte delmængde"
   ]
  },
  {
   "cell_type": "markdown",
   "id": "f38084f5",
   "metadata": {},
   "source": [
    "**Eksempel S5: Set comprehension**  \n",
    "Genererer sæt og fjerner dubletter i én operation."
   ]
  },
  {
   "cell_type": "code",
   "execution_count": 4,
   "id": "8b30f180",
   "metadata": {},
   "outputs": [
    {
     "name": "stdout",
     "output_type": "stream",
     "text": [
      "{3, 5, 6}\n"
     ]
    }
   ],
   "source": [
    "ordliste = [\"hej\",\"hejsa\",\"hej\",\"hej\",\"python\"]\n",
    "længder = {len(o) for o in ordliste}\n",
    "print(længder)"
   ]
  },
  {
   "cell_type": "markdown",
   "id": "d81b6cba",
   "metadata": {},
   "source": [
    "## Tupler (tuples)"
   ]
  },
  {
   "cell_type": "markdown",
   "id": "ac2209bb",
   "metadata": {},
   "source": [
    "**Eksempel T1: Oprettelse og indeksering**  \n",
    "Tupler er ordnede og uforanderlige."
   ]
  },
  {
   "cell_type": "code",
   "execution_count": null,
   "id": "a88adf8c",
   "metadata": {},
   "outputs": [],
   "source": [
    "koordinat = (10, 20)\n",
    "print(koordinat[0], koordinat[1])"
   ]
  },
  {
   "cell_type": "markdown",
   "id": "94bb01d4",
   "metadata": {},
   "source": [
    "**Eksempel T2: Pakning og udpaktning**  \n",
    "Flere værdier kan udpakkes i variable."
   ]
  },
  {
   "cell_type": "code",
   "execution_count": null,
   "id": "e8bfed2c",
   "metadata": {},
   "outputs": [],
   "source": [
    "punkt = (3, 4)\n",
    "x, y = punkt\n",
    "print(f\"x={x}, y={y}\")"
   ]
  },
  {
   "cell_type": "markdown",
   "id": "c3a59a4d",
   "metadata": {},
   "source": [
    "**Eksempel T3: Funktion der returnerer en tuple**  \n",
    "Returnerer flere værdier på én gang."
   ]
  },
  {
   "cell_type": "code",
   "execution_count": 3,
   "id": "48ff9d7e",
   "metadata": {},
   "outputs": [
    {
     "name": "stdout",
     "output_type": "stream",
     "text": [
      "(1, 9)\n"
     ]
    }
   ],
   "source": [
    "def min_max(vals):\n",
    "    return (min(vals), max(vals))\n",
    "\n",
    "print(min_max([5,1,9,2]))"
   ]
  },
  {
   "cell_type": "markdown",
   "id": "3d3e0997",
   "metadata": {},
   "source": [
    "**Eksempel T4: Slicing og metoder**  \n",
    "Tupler kan slices og har fx `count` og `index`."
   ]
  },
  {
   "cell_type": "code",
   "execution_count": null,
   "id": "45d6c667",
   "metadata": {},
   "outputs": [],
   "source": [
    "t = (1,2,2,3,4,2)\n",
    "print(t[1:4])\n",
    "print(\"antal 2'ere:\", t.count(2))\n",
    "print(\"første 3 ved indeks:\", t.index(3))"
   ]
  },
  {
   "cell_type": "markdown",
   "id": "7a2420cf",
   "metadata": {},
   "source": [
    "**Eksempel T5: Uforanderlighed**  \n",
    "Forsøg på at ændre et element giver fejl."
   ]
  },
  {
   "cell_type": "code",
   "execution_count": 10,
   "id": "668909f8",
   "metadata": {},
   "outputs": [
    {
     "name": "stdout",
     "output_type": "stream",
     "text": [
      "Fejl: 'tuple' object does not support item assignment\n"
     ]
    }
   ],
   "source": [
    "t = (1,2,3)\n",
    "try:\n",
    "    t[0] = 99\n",
    "except TypeError as e:\n",
    "    print(\"Fejl:\", e)"
   ]
  }
 ],
 "metadata": {
  "kernelspec": {
   "display_name": "Python 3",
   "language": "python",
   "name": "python3"
  },
  "language_info": {
   "codemirror_mode": {
    "name": "ipython",
    "version": 3
   },
   "file_extension": ".py",
   "mimetype": "text/x-python",
   "name": "python",
   "nbconvert_exporter": "python",
   "pygments_lexer": "ipython3",
   "version": "3.12.5"
  }
 },
 "nbformat": 4,
 "nbformat_minor": 5
}
