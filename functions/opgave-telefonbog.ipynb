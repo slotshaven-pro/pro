{
 "cells": [
  {
   "cell_type": "markdown",
   "id": "8ca5059e",
   "metadata": {},
   "source": [
    "# Telefonbog"
   ]
  },
  {
   "cell_type": "markdown",
   "id": "2364ac89",
   "metadata": {},
   "source": [
    "Du skal lave et lille program, som fungerer som en **telefonbog**.  \n",
    "Programmet bruger et **dictionary** til at gemme navne og telefonnumre, og **funktioner** til at udføre de forskellige handlinger.  \n",
    "\n",
    "- Brug dictionaries til at gemme data  \n",
    "- brug funktioner til at organisere programmet  \n"
   ]
  },
  {
   "cell_type": "markdown",
   "id": "b7ca2726",
   "metadata": {},
   "source": [
    "## Opgavebeskrivelse\n",
    "\n",
    "Programmet skal kunne:\n",
    "\n",
    "1. **Tilføje en ny kontakt** (brugeren indtaster navn og telefonnummer)  \n",
    "2. **Finde et telefonnummer** ud fra et navn  \n",
    "3. **Vise alle kontakter**  \n",
    "4. **Afslutte programmet**\n",
    "\n",
    "Alle fire menupunkter skal udføres via **funktioner**.  \n",
    "Brugeren skal vælge, hvad de vil gøre, via et menu-system.\n"
   ]
  },
  {
   "cell_type": "markdown",
   "id": "3f642443",
   "metadata": {},
   "source": [
    "### Eksempeldata\n",
    "\n",
    "Start fx med et dictionary med tre eksempler på kontakter."
   ]
  },
  {
   "cell_type": "code",
   "execution_count": null,
   "id": "ea2cbb2c",
   "metadata": {},
   "outputs": [],
   "source": [
    "# Example data\n",
    "contacts = {\n",
    "    \"Anna\": \"23456789\",\n",
    "    \"Bjørn\": \"99887766\",\n",
    "    \"Clara\": \"11223344\"\n",
    "}"
   ]
  },
  {
   "cell_type": "markdown",
   "id": "c05445b1",
   "metadata": {},
   "source": [
    "### Opgave: skriv funktionerne\n",
    "\n",
    "Programmet skal have funktioner til at håndtere hvert menupunkt.  \n",
    "Brugeren skal kunne vælge mellem mulighederne via `input()`.  \n"
   ]
  },
  {
   "cell_type": "code",
   "execution_count": null,
   "id": "b7fc91f8",
   "metadata": {},
   "outputs": [],
   "source": [
    "# Inspiration - sådan kunne dit main loop se ud\n",
    "while True:\n",
    "    print(\"\\n1. Add contact\")\n",
    "    print(\"2. Find contact\")\n",
    "    print(\"3. Show all contacts\")\n",
    "    print(\"4. Exit\")\n",
    "    choice = input(\"Choose an option: \")\n",
    "    # Continue - call function based on choice"
   ]
  }
 ],
 "metadata": {
  "language_info": {
   "name": "python"
  }
 },
 "nbformat": 4,
 "nbformat_minor": 5
}
