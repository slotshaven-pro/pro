{
 "cells": [
  {
   "cell_type": "markdown",
   "id": "27f31c13",
   "metadata": {},
   "source": [
    "# Opgaver til funktioner"
   ]
  },
  {
   "cell_type": "markdown",
   "id": "5e400fc8",
   "metadata": {},
   "source": [
    "### Definition og print af doc strings\n",
    "\n",
    "Skriv en funktion der tager et navn som parameter og returnerer en hilsen.\n",
    "\n",
    "Tilføj en docstring til funktionen, der forklarer hvad den gør. Udskriv derefter docstringen ved hjælp af `. __doc__`.\n"
   ]
  },
  {
   "cell_type": "code",
   "execution_count": null,
   "id": "cf1cfe1d",
   "metadata": {},
   "outputs": [],
   "source": [
    "# Insert code here"
   ]
  },
  {
   "cell_type": "markdown",
   "id": "a5aa6e2d",
   "metadata": {},
   "source": [
    "### Omskriv funktion til at bruge Default-værdier\n",
    "\n",
    "Her er en funktion, der tager både navn og by som parametre.\n",
    "\n",
    "Omskriv funktionen så by har en default-værdi (f.eks. \"København\").\n"
   ]
  },
  {
   "cell_type": "code",
   "execution_count": null,
   "id": "41e7a114",
   "metadata": {},
   "outputs": [],
   "source": [
    "# Insert code here"
   ]
  },
  {
   "cell_type": "markdown",
   "id": "b97d6734",
   "metadata": {},
   "source": [
    "### Gem og udskriv returværdier (return)\n",
    "\n",
    "Skriv en funktion der tager to tal og returnerer deres gennemsnit.\n",
    "\n",
    "Gem returværdien i en variabel og udskriv den.\n"
   ]
  },
  {
   "cell_type": "code",
   "execution_count": null,
   "id": "17fa1a43",
   "metadata": {},
   "outputs": [],
   "source": [
    "# Insert code here"
   ]
  },
  {
   "cell_type": "markdown",
   "id": "3e1f8407",
   "metadata": {},
   "source": [
    "### Håndtering af returværdien None\n",
    "\n",
    "Skriv en funktion der printer noget tekst men ikke returnerer noget.\n",
    "\n",
    "Kald funktionen og udskriv hvad den returnerer.\n"
   ]
  },
  {
   "cell_type": "code",
   "execution_count": null,
   "id": "c1daf7ef",
   "metadata": {},
   "outputs": [],
   "source": [
    "# Insert code here"
   ]
  },
  {
   "cell_type": "markdown",
   "id": "d88e65cb",
   "metadata": {},
   "source": [
    "### Navngivne parametre\n",
    "\n",
    "Skriv en funktion der udskriver information om en person (f.eks. navn og alder).\n",
    "\n",
    "Kald funktionen med navngivne parametre (keyword arguments) i en anden rækkefølge end de er defineret.\n"
   ]
  },
  {
   "cell_type": "code",
   "execution_count": null,
   "id": "95adbf6f",
   "metadata": {},
   "outputs": [],
   "source": [
    "# Insert code here"
   ]
  },
  {
   "cell_type": "markdown",
   "id": "79e6625e",
   "metadata": {},
   "source": [
    "### Positionelle parametre\n",
    "\n",
    "Skriv en funktion der tager to parametre: navn og alder.\n",
    "\n",
    "Kald funktionen med positionelle argumenter i korrekt og forkert rækkefølge, og se forskellen.\n"
   ]
  },
  {
   "cell_type": "code",
   "execution_count": null,
   "id": "c2b53670",
   "metadata": {},
   "outputs": [],
   "source": [
    "# Insert code here"
   ]
  }
 ],
 "metadata": {
  "language_info": {
   "name": "python"
  }
 },
 "nbformat": 4,
 "nbformat_minor": 5
}
