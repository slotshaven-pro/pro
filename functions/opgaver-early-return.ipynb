{
 "cells": [
  {
   "cell_type": "markdown",
   "id": "27f31c13",
   "metadata": {},
   "source": [
    "# Opgaver til funktioner og early return"
   ]
  },
  {
   "cell_type": "markdown",
   "id": "9dff97e6",
   "metadata": {},
   "source": [
    "### Omskriv funktion\n",
    "\n",
    "Her er en funktion med ét return-sted (one exit):\n",
    "\n",
    "```python\n",
    "def check_temperature(temp):\n",
    "    result = \"For koldt\"\n",
    "    if temp >= 20:\n",
    "        result = \"Dejligt vejr\"\n",
    "    return result\n",
    "```\n",
    "\n",
    "Omskriv den så den bruger early return i stedet.\n"
   ]
  },
  {
   "cell_type": "code",
   "execution_count": null,
   "id": "5512b551",
   "metadata": {},
   "outputs": [],
   "source": [
    "# Insert code here"
   ]
  },
  {
   "cell_type": "markdown",
   "id": "65610e9a",
   "metadata": {},
   "source": [
    "### Omskriv funktion\n",
    "\n",
    "Her er en funktion med early return:\n",
    "\n",
    "```python\n",
    "def check_speed(speed):\n",
    "    if speed > 80:\n",
    "        return \"For hurtigt\"\n",
    "    return \"OK\"\n",
    "```\n",
    "\n",
    "Omskriv den så den bruger One Exit Only.\n"
   ]
  },
  {
   "cell_type": "code",
   "execution_count": null,
   "id": "25b7399f",
   "metadata": {},
   "outputs": [],
   "source": [
    "# Insert code here"
   ]
  },
  {
   "cell_type": "markdown",
   "id": "9f347329",
   "metadata": {},
   "source": [
    "### Flexible/Arbitrary Arguments : *args & **kwargs\n",
    "\n",
    "Skriv en funktion der kan tage vilkårligt mange studerende som positionelle argumenter (`*args`) og vilkårlige oplysninger om f.eks. skole og klassetrin som navngivne argumenter (`**kwargs`).\n",
    "\n",
    "Udskriv både listen af navne og oplysningerne.\n"
   ]
  },
  {
   "cell_type": "code",
   "execution_count": null,
   "id": "80f9a21b",
   "metadata": {},
   "outputs": [],
   "source": [
    "# Insert code here"
   ]
  }
 ],
 "metadata": {
  "language_info": {
   "name": "python"
  }
 },
 "nbformat": 4,
 "nbformat_minor": 5
}
