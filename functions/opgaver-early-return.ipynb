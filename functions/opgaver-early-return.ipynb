{
 "cells": [
  {
   "cell_type": "markdown",
   "id": "27f31c13",
   "metadata": {},
   "source": [
    "# Opgaver til funktioner: Early return\n",
    "\n",
    "En funktion skal returnere altid et svar.\n",
    "\n",
    "En login-funktion kan  fx svare ja eller nej til om folk kan logge ind.\n",
    "```\n",
    "def can_login(user)\n",
    "    return True # eller false\n",
    "```\n",
    "\n",
    "Der findes to skoler for hvornår en funktion skal returnere:\n",
    "- early return\n",
    "- single return\n",
    "\n",
    "I early return returnerer man lige så snart man har et svar. \n",
    "I single return er returnerer som på sidste linje i funktionen."
   ]
  },
  {
   "cell_type": "markdown",
   "id": "9dff97e6",
   "metadata": {},
   "source": [
    "### Omskriv funktion\n",
    "\n",
    "Her er en funktion med single return:\n",
    "\n",
    "```python\n",
    "def check_temperature(temp):\n",
    "    result = \"For koldt\"\n",
    "    if temp >= 20:\n",
    "        result = \"Dejligt vejr\"\n",
    "    return result\n",
    "```\n",
    "\n",
    "Omskriv den så den bruger early return i stedet.\n"
   ]
  },
  {
   "cell_type": "code",
   "execution_count": null,
   "id": "5512b551",
   "metadata": {},
   "outputs": [],
   "source": [
    "# Insert code here"
   ]
  },
  {
   "cell_type": "markdown",
   "id": "65610e9a",
   "metadata": {},
   "source": [
    "### Omskriv funktion\n",
    "\n",
    "Her er en funktion med early return:\n",
    "\n",
    "```python\n",
    "def check_speed(speed):\n",
    "    if speed > 80:\n",
    "        return \"For hurtigt\"\n",
    "    return \"OK\"\n",
    "```\n",
    "\n",
    "Omskriv den så den bruger single return.\n"
   ]
  },
  {
   "cell_type": "code",
   "execution_count": null,
   "id": "25b7399f",
   "metadata": {},
   "outputs": [],
   "source": [
    "# Insert code here"
   ]
  },
  {
   "cell_type": "markdown",
   "id": "9f347329",
   "metadata": {},
   "source": [
    "### Omskriv funktion\n",
    "\n",
    "Omskriv funktionen `validate_order()` til early return."
   ]
  },
  {
   "cell_type": "code",
   "execution_count": null,
   "id": "80f9a21b",
   "metadata": {},
   "outputs": [],
   "source": [
    "def validate_order(age, saldo, is_customer):\n",
    "    result = {\n",
    "        \"ok\": True,\n",
    "        \"besked\": \"Bestilling godkendt.\"\n",
    "    }\n",
    "    if age < 18:\n",
    "        result[\"ok\"] = False\n",
    "        result[\"besked\"] = \"Du skal være myndig.\"\n",
    "    elif saldo < 200:\n",
    "        result[\"ok\"] = False\n",
    "        result[\"besked\"] = \"Saldo er for lav.\"\n",
    "    elif not is_customer:\n",
    "        result[\"ok\"] = False\n",
    "        result[\"besked\"] = \"Du skal være registreret som kunde.\"\n",
    "\n",
    "    return result"
   ]
  },
  {
   "cell_type": "code",
   "execution_count": null,
   "id": "f5021950",
   "metadata": {},
   "outputs": [],
   "source": [
    "# insert code here\n"
   ]
  },
  {
   "cell_type": "markdown",
   "id": "b2c45030",
   "metadata": {},
   "source": [
    "### Omskriv funktion\n",
    "\n",
    "Et andet eksempel er en funktion der kontroller om en bruger kan logge ind.\n",
    "\n"
   ]
  },
  {
   "cell_type": "code",
   "execution_count": null,
   "id": "215c286e",
   "metadata": {},
   "outputs": [],
   "source": [
    "def validate_login(username, password, twofactor):\n",
    "    fejl = None\n",
    "\n",
    "    if not username or not password:\n",
    "        fejl = \"Udfyld username og password.\"\n",
    "    elif not check_username(username):\n",
    "        fejl = \"username findes ikke.\"\n",
    "    elif not check_username(username, password):\n",
    "        fejl = \"Password er forkert.\"\n",
    "    elif not twofactor:\n",
    "        fejl = \"Indtast to-faktor-koden.\"\n",
    "    elif not validate_two_factor(username, twofactor):\n",
    "        fejl = \"To-faktor-koden er forkert.\"\n",
    "\n",
    "    if fejl:\n",
    "        return {\"ok\": False, \"besked\": fejl}\n",
    "\n",
    "    return {\"ok\": True, \"besked\": \"Login lykkedes.\"}\n"
   ]
  },
  {
   "cell_type": "markdown",
   "id": "7da14bf5",
   "metadata": {},
   "source": [
    "Bemærk at funktionen kalder nogle funktioner som ikke eksisterer - den kan altså ikke køres som den er. "
   ]
  },
  {
   "cell_type": "markdown",
   "id": "8e83ca07",
   "metadata": {},
   "source": [
    "Omskriv funktionen `validate_login()` til early return. Tilføj de manglende funktioner og lad dem returnere enten True eller False."
   ]
  },
  {
   "cell_type": "code",
   "execution_count": null,
   "id": "144a85aa",
   "metadata": {},
   "outputs": [],
   "source": [
    "# Insert your code here"
   ]
  },
  {
   "cell_type": "markdown",
   "id": "508db0c9",
   "metadata": {},
   "source": [
    "### Early return vs single return?\n",
    "\n",
    "Overvej hvad der er fordele og ulemper ved de to metoder?\n",
    "Skriv dine overvejelser i cellen nedenfor."
   ]
  },
  {
   "cell_type": "markdown",
   "id": "ab1906a0",
   "metadata": {},
   "source": [
    "### Fordele og ulemper ved early return\n"
   ]
  },
  {
   "cell_type": "markdown",
   "id": "8ad98e4c",
   "metadata": {},
   "source": [
    "### Fordele og ulemper ved single return\n"
   ]
  },
  {
   "cell_type": "markdown",
   "id": "cccf238f",
   "metadata": {},
   "source": []
  }
 ],
 "metadata": {
  "language_info": {
   "name": "python"
  }
 },
 "nbformat": 4,
 "nbformat_minor": 5
}
