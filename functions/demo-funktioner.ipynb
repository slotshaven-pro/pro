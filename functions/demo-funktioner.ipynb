{
 "cells": [
  {
   "cell_type": "markdown",
   "id": "1e9abe8c",
   "metadata": {},
   "source": [
    "# Funktioner"
   ]
  },
  {
   "cell_type": "markdown",
   "id": "13e6ba3b",
   "metadata": {},
   "source": [
    "### Forskel på built-in og brugerdefinerede funktioner\n",
    "\n",
    "Python har mange indbyggede funktioner (built-in functions), som f.eks. `len()`, `print()` og `sum()`. \n",
    "Man kan også selv definere sine egne funktioner (user-defined functions) med `def`-nøgleordet.\n",
    "\n",
    "Pointen med dette eksempel er at vise forskellen mellem at bruge en funktion, der allerede findes i Python, og at skrive sin egen funktion.\n"
   ]
  },
  {
   "cell_type": "code",
   "execution_count": null,
   "id": "efae4d21",
   "metadata": {},
   "outputs": [],
   "source": [
    "# Built-in function\n",
    "my_list = [1, 2, 3]\n",
    "print(\"Længden af listen er:\", len(my_list))  # built-in function\n",
    "\n",
    "# User-defined function\n",
    "def list_length(lst):\n",
    "    # Custom implementation of length\n",
    "    count = 0\n",
    "    for _ in lst:\n",
    "        count += 1\n",
    "    return count\n",
    "\n",
    "print(\"Længden af listen er:\", list_length(my_list))  # user-defined function"
   ]
  },
  {
   "cell_type": "markdown",
   "id": "84c01fff",
   "metadata": {},
   "source": [
    "### Definition og print af doc strings\n",
    "\n",
    "Docstrings bruges til at dokumentere funktioner. De er nyttige, når man vil forstå, hvad en funktion gør, især i større projekter.\n",
    "\n",
    "Pointen er at vise, hvordan man skriver og tilgår docstrings med `.__doc__`.\n"
   ]
  },
  {
   "cell_type": "code",
   "execution_count": null,
   "id": "c8876c03",
   "metadata": {},
   "outputs": [],
   "source": [
    "def greet(name):\n",
    "    \"\"\"Returnerer en personlig hilsen.\"\"\"\n",
    "    return f\"Hej, {name}!\"\n",
    "\n",
    "print(greet.__doc__)"
   ]
  },
  {
   "cell_type": "markdown",
   "id": "b3e01aa3",
   "metadata": {},
   "source": [
    "### Parametre og argumenter\n",
    "\n",
    "Parametre er navngivne variabler i funktionsdefinitionen. Argumenter er de værdier, man sender til funktionen, når den kaldes.\n",
    "\n",
    "Eksemplet viser, hvordan parametre og argumenter hænger sammen.\n"
   ]
  },
  {
   "cell_type": "code",
   "execution_count": null,
   "id": "a630c12c",
   "metadata": {},
   "outputs": [],
   "source": [
    "def welcome_message(name, city):\n",
    "    return f\"Velkommen, {name}, til {city}!\"\n",
    "\n",
    "print(welcome_message(\"Anna\", \"Aarhus\"))  # \"Anna\" og \"Aarhus\" er argumenter"
   ]
  },
  {
   "cell_type": "markdown",
   "id": "65beeb68",
   "metadata": {},
   "source": [
    "### Default-værdier\n",
    "\n",
    "En funktion kan have standardværdier for parametre. Det betyder, at man kan kalde funktionen uden at angive alle argumenter.\n",
    "\n",
    "Pointen er, at parametre med default-værdi gør funktioner mere fleksible.\n"
   ]
  },
  {
   "cell_type": "code",
   "execution_count": null,
   "id": "44a0276f",
   "metadata": {},
   "outputs": [],
   "source": [
    "def welcome(name, city=\"København\"):\n",
    "    return f\"Velkommen, {name}, til {city}!\"\n",
    "\n",
    "print(welcome(\"Peter\"))         # Bruger default-værdien\n",
    "print(welcome(\"Sara\", \"Odense\"))  # Overskriver default-værdien"
   ]
  },
  {
   "cell_type": "markdown",
   "id": "6eca3059",
   "metadata": {},
   "source": [
    "### Returværdier (return)\n",
    "\n",
    "En funktion returnerer en værdi med `return`. Det giver mulighed for at genbruge resultater andre steder i koden.\n",
    "\n",
    "Eksemplet viser en funktion, der returnerer summen af to tal.\n"
   ]
  },
  {
   "cell_type": "code",
   "execution_count": null,
   "id": "d2769ab9",
   "metadata": {},
   "outputs": [],
   "source": [
    "def add(a, b):\n",
    "    return a + b\n",
    "\n",
    "result = add(4, 5)\n",
    "print(\"Resultatet er:\", result)"
   ]
  },
  {
   "cell_type": "markdown",
   "id": "348fc594",
   "metadata": {},
   "source": [
    "### Returværdien None\n",
    "\n",
    "Hvis en funktion ikke bruger `return`, returnerer den automatisk `None`.\n",
    "\n",
    "Pointen er at vise, at alle funktioner returnerer *noget*, selv hvis det ikke er tydeligt.\n"
   ]
  },
  {
   "cell_type": "code",
   "execution_count": null,
   "id": "025da7b9",
   "metadata": {},
   "outputs": [],
   "source": [
    "def no_return():\n",
    "    print(\"Dette er en funktion uden return\")\n",
    "\n",
    "result = no_return()\n",
    "print(\"Returværdien er:\", result)  # Vil være None"
   ]
  },
  {
   "cell_type": "markdown",
   "id": "b4bda06e",
   "metadata": {},
   "source": [
    "### Navngivne parametre\n",
    "\n",
    "Ved at bruge navngivne parametre (keyword arguments) bliver det tydeligt, hvilket argument der svarer til hvilken parameter.\n",
    "\n",
    "Pointen er, at det øger læsbarheden.\n"
   ]
  },
  {
   "cell_type": "code",
   "execution_count": null,
   "id": "82da009f",
   "metadata": {},
   "outputs": [],
   "source": [
    "def print_info(name, age):\n",
    "    print(f\"{name} er {age} år gammel.\")\n",
    "\n",
    "print_info(age=30, name=\"Anders\")  # Argumenterne kan byttes rundt, når de navngives"
   ]
  },
  {
   "cell_type": "markdown",
   "id": "b4d4ecc9",
   "metadata": {},
   "source": [
    "### Positionelle parametre\n",
    "\n",
    "Positionelle parametre betyder, at rækkefølgen af argumenterne er vigtig.\n",
    "\n",
    "Pointen er, at forkert rækkefølge kan give forkerte resultater.\n"
   ]
  },
  {
   "cell_type": "code",
   "execution_count": null,
   "id": "e0326e35",
   "metadata": {},
   "outputs": [],
   "source": [
    "def print_info(name, age):\n",
    "    print(f\"{name} er {age} år gammel.\")\n",
    "\n",
    "print_info(\"Anders\", 30)       # korrekt rækkefølge\n",
    "print_info(30, \"Anders\")       # forkert rækkefølge!"
   ]
  },
  {
   "cell_type": "markdown",
   "id": "2420e3de",
   "metadata": {},
   "source": [
    "### Early return vs single return point\n",
    "\n",
    "Der er to måder at returnere fra en funktion: tidligt (early return) eller med ét samlet return-sted.\n",
    "\n",
    "Pointen er at vise forskellen og hvorfor early return kan være nyttigt for at gøre koden kortere og mere overskuelig.\n"
   ]
  },
  {
   "cell_type": "code",
   "execution_count": null,
   "id": "aacbccca",
   "metadata": {},
   "outputs": [],
   "source": [
    "def check_age_early(age):\n",
    "    if age < 18:\n",
    "        return \"For ung\"\n",
    "    return \"Adgang tilladt\"\n",
    "\n",
    "def check_age_single_return(age):\n",
    "    result = \"For ung\"\n",
    "    if age >= 18:\n",
    "        result = \"Adgang tilladt\"\n",
    "    return result\n",
    "\n",
    "print(check_age_early(16))\n",
    "print(check_age_single_return(16))"
   ]
  },
  {
   "cell_type": "markdown",
   "id": "2b3fdee0",
   "metadata": {},
   "source": [
    "### Flexible/Arbitrary Arguments: *args og **kwargs\n",
    "\n",
    "`*args` bruges til vilkårligt antal positionelle argumenter. `**kwargs` bruges til vilkårligt antal navngivne argumenter.\n",
    "\n",
    "Positionelle argumenter skal altid komme før navngivne argumenter.\n",
    "\n",
    "Pointen er at vise, hvordan man kan lave meget fleksible funktioner.\n"
   ]
  },
  {
   "cell_type": "code",
   "execution_count": 2,
   "id": "9ade7ae1",
   "metadata": {},
   "outputs": [
    {
     "name": "stdout",
     "output_type": "stream",
     "text": [
      "Studerende: ('Mette', 'Jonas')\n",
      "Detaljer: {'klasse': '2B', 'skole': 'Roskilde Gymnasium'}\n",
      "Studerende: ()\n",
      "Detaljer: {'klasse': '2B', 'skole': 'Roskilde Gymnasium'}\n"
     ]
    }
   ],
   "source": [
    "def print_students(*args, **kwargs):\n",
    "    print(\"Studerende:\", args)\n",
    "    print(\"Detaljer:\", kwargs)\n",
    "\n",
    "print_students(\"Mette\", \"Jonas\", klasse=\"2B\", skole=\"Roskilde Gymnasium\")\n",
    "\n",
    "print_students(klasse=\"2B\", skole=\"Roskilde Gymnasium\")\n",
    "\n"
   ]
  }
 ],
 "metadata": {
  "kernelspec": {
   "display_name": "Python 3",
   "language": "python",
   "name": "python3"
  },
  "language_info": {
   "codemirror_mode": {
    "name": "ipython",
    "version": 3
   },
   "file_extension": ".py",
   "mimetype": "text/x-python",
   "name": "python",
   "nbconvert_exporter": "python",
   "pygments_lexer": "ipython3",
   "version": "3.11.2"
  }
 },
 "nbformat": 4,
 "nbformat_minor": 5
}
