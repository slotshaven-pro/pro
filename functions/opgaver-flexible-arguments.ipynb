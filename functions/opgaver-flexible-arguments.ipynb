{
 "cells": [
  {
   "cell_type": "markdown",
   "id": "27f31c13",
   "metadata": {},
   "source": [
    "# Opgaver til funktioner og flexible arguments"
   ]
  },
  {
   "cell_type": "markdown",
   "id": "9f347329",
   "metadata": {},
   "source": [
    "### Flexible/Arbitrary Arguments : *args & **kwargs\n",
    "\n",
    "Skriv en funktion der kan tage vilkårligt mange studerende som positionelle argumenter (`*args`) og vilkårlige oplysninger om f.eks. skole og klassetrin som navngivne argumenter (`**kwargs`).\n",
    "\n",
    "Udskriv både listen af navne og oplysningerne.\n"
   ]
  },
  {
   "cell_type": "code",
   "execution_count": null,
   "id": "80f9a21b",
   "metadata": {},
   "outputs": [],
   "source": [
    "# Insert code here"
   ]
  }
 ],
 "metadata": {
  "language_info": {
   "name": "python"
  }
 },
 "nbformat": 4,
 "nbformat_minor": 5
}
