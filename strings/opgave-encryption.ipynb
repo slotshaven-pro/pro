{
 "cells": [
  {
   "cell_type": "markdown",
   "id": "e768367b",
   "metadata": {},
   "source": [
    "# Kryptering med string-funktioner\n",
    "\n",
    "## Opgave\n",
    "\n",
    "Kig på eksemplerne nedenfor og afprøv dem. \n",
    "Skriv derefter din egen krypteringsalogoritme ved hjælp af tre almindelige string-funktioner, såsom replace(), split(), strip() osv.\n",
    "\n",
    "A. Lav et program som beder brugeren om et ord, fx adgangskode. Krypter koden og vis den til brugeren. \n",
    "\n",
    "B. Afprøv din algoritme på din sidekammerats navn og spørg om vedkommende kan gennemskue algoritmen.\n",
    "\n",
    "C. Udvid dit program så det kan dekryptere koden. Kan det altid lade sig gøre?\n",
    "\n",
    "D. Overvej hvad der er forudsætningen for at man kan dekryptere koden igen?"
   ]
  },
  {
   "cell_type": "markdown",
   "id": "8e6a9288",
   "metadata": {},
   "source": [
    "# Kryptering\n",
    "\n",
    "Eksempel på en funktion der modtager en kode og returnerer den krypterede kode."
   ]
  },
  {
   "cell_type": "code",
   "execution_count": 2,
   "id": "378ad45d",
   "metadata": {},
   "outputs": [
    {
     "name": "stdout",
     "output_type": "stream",
     "text": [
      "Patar HaXsaX\n"
     ]
    }
   ],
   "source": [
    "def encrypt(code):\n",
    "    # put your encryption here\n",
    "    code1 = code.replace('e', 'a')\n",
    "    code2 = code1.replace('n', 'X')\n",
    "    return code2\n",
    "\n",
    "encrypted = encrypt('Peter Hansen')\n",
    "print(encrypted)\n"
   ]
  },
  {
   "cell_type": "markdown",
   "id": "1aa18ce0",
   "metadata": {},
   "source": [
    "# Dekryptering\n",
    "\n",
    "Eksempel på funktion der modtager den krypterede kode og returnerer den oprindelige kode."
   ]
  },
  {
   "cell_type": "code",
   "execution_count": 3,
   "id": "2c41fe75",
   "metadata": {},
   "outputs": [
    {
     "name": "stdout",
     "output_type": "stream",
     "text": [
      "Peter Heksek\n"
     ]
    }
   ],
   "source": [
    "def decrypt(code):\n",
    "    # put your decryption here\n",
    "    code1 = code.replace('a', 'e')\n",
    "    code2 = code1.replace('X', 'k')\n",
    "    return code2\n",
    "\n",
    "decrypted = decrypt('Patar HaXsaX')\n",
    "print(decrypted)"
   ]
  }
 ],
 "metadata": {
  "kernelspec": {
   "display_name": "Python 3",
   "language": "python",
   "name": "python3"
  },
  "language_info": {
   "codemirror_mode": {
    "name": "ipython",
    "version": 3
   },
   "file_extension": ".py",
   "mimetype": "text/x-python",
   "name": "python",
   "nbconvert_exporter": "python",
   "pygments_lexer": "ipython3",
   "version": "3.12.5"
  }
 },
 "nbformat": 4,
 "nbformat_minor": 5
}
